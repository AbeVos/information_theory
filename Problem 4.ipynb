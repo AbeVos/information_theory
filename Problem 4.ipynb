{
 "cells": [
  {
   "cell_type": "markdown",
   "metadata": {},
   "source": [
    "# Letter Frequency"
   ]
  },
  {
   "cell_type": "code",
   "execution_count": 29,
   "metadata": {},
   "outputs": [],
   "source": [
    "import math\n",
    "import string\n",
    "\n",
    "# open the input file\n",
    "eng_text = open(\"Alice_eng.txt\")\n",
    "esp_text = open(\"Alice_esp.txt\")\n",
    "fin_text = open(\"Alice_fin.txt\")\n",
    "ger_text = open(\"Alice_ger.txt\")\n",
    "ita_text = open(\"Alice_ita.txt\")\n",
    "ciph_text = open(\"permuted_cipher.txt\")\n",
    "\n",
    "# read the text in the file (it is stored as a long string), and convert it to lowercase in the process\n",
    "data_eng = eng_text.read().lower()\n",
    "data_esp = esp_text.read().lower()\n",
    "data_fin = fin_text.read().lower()\n",
    "data_ger = ger_text.read().lower()\n",
    "data_ita = ita_text.read().lower()\n",
    "data_ciph = ciph_text.read().lower()\n",
    "\n",
    "#The letter frequency for every language\n",
    "eng_dict = {}\n",
    "for letter in \"abcdefghijklmnopqrstuvwxyz\":\n",
    "    eng_dict[letter]=0\n",
    "\n",
    "for c in data_eng:\n",
    "    if c in eng_dict:\n",
    "        eng_dict[c] = eng_dict[c]+1\n",
    "\n",
    "esp_dict = {}\n",
    "for letter in \"abcdefghijklmnopqrstuvwxyz\":\n",
    "    esp_dict[letter]=0\n",
    "\n",
    "for c in data_esp:\n",
    "    if c in esp_dict:\n",
    "        esp_dict[c] = esp_dict[c]+1\n",
    "\n",
    "fin_dict = {}\n",
    "for letter in \"abcdefghijklmnopqrstuvwxyz\":\n",
    "    fin_dict[letter]=0\n",
    "\n",
    "for c in data_fin:\n",
    "    if c in fin_dict:\n",
    "        fin_dict[c] = fin_dict[c]+1\n",
    "        \n",
    "ger_dict = {}\n",
    "for letter in \"abcdefghijklmnopqrstuvwxyz\":\n",
    "    ger_dict[letter]=0\n",
    "\n",
    "for c in data_ger:\n",
    "    if c in ger_dict:\n",
    "        ger_dict[c] = ger_dict[c]+1\n",
    "\n",
    "ita_dict = {}\n",
    "for letter in \"abcdefghijklmnopqrstuvwxyz\":\n",
    "    ita_dict[letter]=0\n",
    "\n",
    "for c in data_ita:\n",
    "    if c in ita_dict:\n",
    "        ita_dict[c] = ita_dict[c]+1\n",
    "\n",
    "ciph_dict = {}\n",
    "for letter in \"abcdefghijklmnopqrstuvwxyz\":\n",
    "    ciph_dict[letter]=0\n",
    "\n",
    "for c in data_ciph:\n",
    "    if c in ciph_dict:\n",
    "        ciph_dict[c] = ciph_dict[c]+1\n",
    "\n",
    "#The total number of letters\n",
    "tot_eng = sum(eng_dict[c] for c in eng_dict)\n",
    "tot_esp = sum(esp_dict[c] for c in esp_dict)\n",
    "tot_fin = sum(fin_dict[c] for c in fin_dict)\n",
    "tot_ger = sum(ger_dict[c] for c in ger_dict)\n",
    "tot_ita = sum(ita_dict[c] for c in ita_dict)\n",
    "tot_ciph = sum(ciph_dict[c] for c in ciph_dict)\n",
    "\n",
    "#The frequency distribution\n",
    "eng = {}\n",
    "for c in \"abcdefghijklmnopqrstuvwxyz\":\n",
    "    eng[c] = eng_dict[c]/tot_eng\n",
    "\n",
    "esp = {}\n",
    "for c in \"abcdefghijklmnopqrstuvwxyz\":\n",
    "    esp[c] = esp_dict[c]/tot_esp\n",
    "\n",
    "fin = {}\n",
    "for c in \"abcdefghijklmnopqrstuvwxyz\":\n",
    "    fin[c] = fin_dict[c]/tot_fin\n",
    "    \n",
    "ger = {}\n",
    "for c in \"abcdefghijklmnopqrstuvwxyz\":\n",
    "    ger[c] = ger_dict[c]/tot_ger\n",
    "    \n",
    "ita = {}\n",
    "for c in \"abcdefghijklmnopqrstuvwxyz\":\n",
    "    ita[c] = ita_dict[c]/tot_ita\n",
    "\n",
    "ciph = {}\n",
    "for c in \"abcdefghijklmnopqrstuvwxyz\":\n",
    "    ciph[c] = ciph_dict[c]/tot_ciph"
   ]
  },
  {
   "cell_type": "markdown",
   "metadata": {},
   "source": [
    "# Pairwise Variational Distances"
   ]
  },
  {
   "cell_type": "code",
   "execution_count": 24,
   "metadata": {},
   "outputs": [
    {
     "name": "stdout",
     "output_type": "stream",
     "text": [
      "The distance between language 0  and language  1  is  0.20937742236938414\n",
      "The distance between language 0  and language  2  is  0.2615411711708111\n",
      "The distance between language 0  and language  3  is  0.14376680719328008\n",
      "The distance between language 0  and language  4  is  0.15514534928687276\n",
      "The distance between language 1  and language  2  is  0.15958260860191312\n",
      "The distance between language 1  and language  3  is  0.23740749351219056\n",
      "The distance between language 1  and language  4  is  0.10602051098152043\n",
      "The distance between language 2  and language  3  is  0.3019905450860071\n",
      "The distance between language 2  and language  4  is  0.23652833937220297\n",
      "The distance between language 3  and language  4  is  0.1919016369551589\n",
      "The distance between language 0  and language  0  is  0.0\n",
      "The distance between language 1  and language  1  is  0.0\n",
      "The distance between language 2  and language  2  is  0.0\n",
      "The distance between language 3  and language  3  is  0.0\n",
      "The distance between language 4  and language  4  is  0.0\n",
      "The closest languages are: (1, 4)  with distance  0.10602051098152043\n",
      "The farthest languages are: (2, 3)  with distance  0.3019905450860071\n"
     ]
    }
   ],
   "source": [
    "lang = [eng,esp,fin,ger,ita]\n",
    "\n",
    "#Variational Distance of two languages\n",
    "def var_dist(lang1,lang2):\n",
    "    vd = 0\n",
    "    for letter in \"abcdefghijklmnopqrstuvwxyz\":\n",
    "        vd = vd + abs(lang1[letter] - lang2[letter])\n",
    "    vd = vd/2\n",
    "    return vd\n",
    "\n",
    "distances= {}\n",
    "\n",
    "for n1 in range(0,5):\n",
    "    for n2 in range(n1+1, 5):\n",
    "        distances[(n1,n2)] = var_dist(lang[n1],lang[n2])\n",
    "        print(\"The distance between language\", n1, \" and language \", n2, \" is \", var_dist(lang[n1],lang[n2]))\n",
    "        #print(\"The distance between language\", n2, \" and language \", n1, \" is \", var_dist(lang[n2],lang[n1]))\n",
    "        \n",
    "for n1 in range(0,5):\n",
    "    print(\"The distance between language\", n1, \" and language \", n1, \" is \", var_dist(lang[n1],lang[n1]))\n",
    "    \n",
    "closest = min(distances.values())\n",
    "farthest = max(distances.values())\n",
    "\n",
    "for languages,distance in distances.items():\n",
    "    if distance == closest:\n",
    "        print(\"The closest languages are:\", languages, \" with distance \", closest)\n",
    "    elif distance == farthest:\n",
    "        print(\"The farthest languages are:\", languages, \" with distance \", farthest)   \n",
    "    \n",
    "\n",
    "#print(min(distances.values()))"
   ]
  },
  {
   "cell_type": "markdown",
   "metadata": {},
   "source": [
    "# Collision Probabilities"
   ]
  },
  {
   "cell_type": "code",
   "execution_count": 30,
   "metadata": {},
   "outputs": [
    {
     "name": "stdout",
     "output_type": "stream",
     "text": [
      "The collision probability of the distribution of language  0 is  0.06554726160032556\n",
      "The collision probability of the distribution of language  1 is  0.06994154478831635\n",
      "The collision probability of the distribution of language  2 is  0.07674919239984539\n",
      "The collision probability of the distribution of language  3 is  0.07249092263220734\n",
      "The collision probability of the distribution of language  4 is  0.07128790076508662\n"
     ]
    }
   ],
   "source": [
    "#Collision Probability of a language\n",
    "def coll(lang1):\n",
    "    cp = 0\n",
    "    for letter in \"abcdefghijklmnopqrstuvwxyz\":\n",
    "        cp = cp + ((lang1[letter])**2)\n",
    "    return cp\n",
    "\n",
    "#print the collision probabilities\n",
    "for n in range(0,5):\n",
    "    print(\"The collision probability of the distribution of language \",n, \"is \", coll(lang[n]) )"
   ]
  },
  {
   "cell_type": "markdown",
   "metadata": {},
   "source": [
    "# Ciphered text"
   ]
  },
  {
   "cell_type": "code",
   "execution_count": 39,
   "metadata": {},
   "outputs": [
    {
     "name": "stdout",
     "output_type": "stream",
     "text": [
      "The collision probability of the distribution of the ciphered text is  0.07008295280317044\n",
      "The distance between the ciphered text and language  0  is  0.2117031983975982\n",
      "The distance between the ciphered text and language  1  is  0.03982758841882112\n",
      "The distance between the ciphered text and language  2  is  0.1771581803080346\n",
      "The distance between the ciphered text and language  3  is  0.2433105311008943\n",
      "The distance between the ciphered text and language  4  is  0.09858283372956739\n",
      "{0: 0.004535691202844874, 1: 0.00014140801485408583, 2: 0.00666623959667495, 3: 0.0024079698290369045, 4: 0.0012049479619161835}\n",
      "The language with the minimal distance to the ciphered text is : 1  with diference  0.00014140801485408583\n"
     ]
    }
   ],
   "source": [
    "print(\"The collision probability of the distribution of the ciphered text is \", coll(ciph))\n",
    "\n",
    "for n in range(0,5):\n",
    "    print(\"The distance between the ciphered text and language \",n, \" is \", var_dist(ciph,lang[n]))\n",
    "    \n",
    "    \n",
    "col_diferences = {}\n",
    "\n",
    "for n in range(0,5):\n",
    "    col_diferences[n] = abs(coll(ciph) - coll(lang[n]))\n",
    "    \n",
    "print(col_diferences)\n",
    "\n",
    "min_dif = abs(min(col_diferences.values()))\n",
    "\n",
    "for language,col_dif in col_diferences.items():\n",
    "    if abs(col_dif) == min_dif:\n",
    "        print(\"The language with the minimal distance to the ciphered text is :\", language, \" with diference \", min_dif)"
   ]
  },
  {
   "cell_type": "code",
   "execution_count": null,
   "metadata": {},
   "outputs": [],
   "source": []
  }
 ],
 "metadata": {
  "kernelspec": {
   "display_name": "Python 3",
   "language": "python",
   "name": "python3"
  },
  "language_info": {
   "codemirror_mode": {
    "name": "ipython",
    "version": 3
   },
   "file_extension": ".py",
   "mimetype": "text/x-python",
   "name": "python",
   "nbconvert_exporter": "python",
   "pygments_lexer": "ipython3",
   "version": "3.7.4"
  }
 },
 "nbformat": 4,
 "nbformat_minor": 2
}

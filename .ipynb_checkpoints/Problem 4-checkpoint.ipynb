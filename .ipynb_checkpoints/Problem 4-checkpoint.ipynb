{
 "cells": [
  {
   "cell_type": "markdown",
   "metadata": {},
   "source": [
    "# Letter Frequency"
   ]
  },
  {
   "cell_type": "code",
   "execution_count": 1,
   "metadata": {},
   "outputs": [],
   "source": [
    "import math\n",
    "import string\n",
    "\n",
    "# open the input file\n",
    "eng_text = open(\"Alice_eng.txt\")\n",
    "esp_text = open(\"Alice_esp.txt\")\n",
    "fin_text = open(\"Alice_fin.txt\")\n",
    "ger_text = open(\"Alice_ger.txt\")\n",
    "ita_text = open(\"Alice_ita.txt\")\n",
    "ciph_text = open(\"permuted_cipher.txt\")\n",
    "\n",
    "# read the text in the file (it is stored as a long string), and convert it to lowercase in the process\n",
    "data_eng = eng_text.read().lower()\n",
    "data_esp = esp_text.read().lower()\n",
    "data_fin = fin_text.read().lower()\n",
    "data_ger = ger_text.read().lower()\n",
    "data_ita = ita_text.read().lower()\n",
    "data_ciph = ciph_text.read().lower()\n",
    "\n",
    "#The frequency distribution for every language\n",
    "eng_dict = {}\n",
    "for letter in \"abcdefghijklmnopqrstuvwxyz\":\n",
    "    eng_dict[letter]=0\n",
    "\n",
    "for c in data_eng:\n",
    "    if c in eng_dict:\n",
    "        eng_dict[c] = eng_dict[c]+1\n",
    "\n",
    "esp_dict = {}\n",
    "for letter in \"abcdefghijklmnopqrstuvwxyz\":\n",
    "    esp_dict[letter]=0\n",
    "\n",
    "for c in data_esp:\n",
    "    if c in esp_dict:\n",
    "        esp_dict[c] = esp_dict[c]+1\n",
    "\n",
    "fin_dict = {}\n",
    "for letter in \"abcdefghijklmnopqrstuvwxyz\":\n",
    "    fin_dict[letter]=0\n",
    "\n",
    "for c in data_fin:\n",
    "    if c in fin_dict:\n",
    "        fin_dict[c] = fin_dict[c]+1\n",
    "        \n",
    "ger_dict = {}\n",
    "for letter in \"abcdefghijklmnopqrstuvwxyz\":\n",
    "    ger_dict[letter]=0\n",
    "\n",
    "for c in data_ger:\n",
    "    if c in ger_dict:\n",
    "        ger_dict[c] = ger_dict[c]+1\n",
    "\n",
    "ita_dict = {}\n",
    "for letter in \"abcdefghijklmnopqrstuvwxyz\":\n",
    "    ita_dict[letter]=0\n",
    "\n",
    "for c in data_ita:\n",
    "    if c in ita_dict:\n",
    "        ita_dict[c] = ita_dict[c]+1\n",
    "\n",
    "ciph_dict = {}\n",
    "for letter in \"abcdefghijklmnopqrstuvwxyz\":\n",
    "    ciph_dict[letter]=0\n",
    "\n",
    "for c in data_ciph:\n",
    "    if c in ciph_dict:\n",
    "        ciph_dict[c] = ciph_dict[c]+1\n"
   ]
  },
  {
   "cell_type": "markdown",
   "metadata": {},
   "source": [
    "# Pairwise Variational Distances"
   ]
  },
  {
   "cell_type": "code",
   "execution_count": 4,
   "metadata": {},
   "outputs": [
    {
     "name": "stdout",
     "output_type": "stream",
     "text": [
      "The distance between language 0  and language  1  is  40667.0\n",
      "The distance between language 0  and language  2  is  39187.0\n",
      "The distance between language 0  and language  3  is  41333.5\n",
      "The distance between language 0  and language  4  is  39470.0\n",
      "The distance between language 1  and language  2  is  19928.0\n",
      "The distance between language 1  and language  3  is  31948.5\n",
      "The distance between language 1  and language  4  is  13570.0\n",
      "The distance between language 2  and language  3  is  37298.5\n",
      "The distance between language 2  and language  4  is  29178.0\n",
      "The distance between language 3  and language  4  is  25816.5\n",
      "The distance between language 0  and language  0  is  0.0\n",
      "The distance between language 1  and language  1  is  0.0\n",
      "The distance between language 2  and language  2  is  0.0\n",
      "The distance between language 3  and language  3  is  0.0\n",
      "The distance between language 4  and language  4  is  0.0\n"
     ]
    }
   ],
   "source": [
    "lang = [eng_dict,esp_dict,fin_dict,ger_dict,ita_dict]\n",
    "\n",
    "#Variational Distance of two languages\n",
    "def var_dist(lang1,lang2):\n",
    "    vd = 0\n",
    "    for letter in \"abcdefghijklmnopqrstuvwxyz\":\n",
    "        vd = vd + abs(lang1[letter] - lang2[letter])\n",
    "    vd = vd/2\n",
    "    return vd\n",
    "\n",
    "for n1 in range(0,5):\n",
    "    for n2 in range(n1+1, 5):\n",
    "        print(\"The distance between language\", n1, \" and language \", n2, \" is \", var_dist(lang[n1],lang[n2]))\n",
    "        #print(\"The distance between language\", n2, \" and language \", n1, \" is \", var_dist(lang[n2],lang[n1]))\n",
    "        \n",
    "for n1 in range(0,5):\n",
    "    print(\"The distance between language\", n1, \" and language \", n1, \" is \", var_dist(lang[n1],lang[n1]))\n",
    "    \n"
   ]
  },
  {
   "cell_type": "markdown",
   "metadata": {},
   "source": [
    "# Collision Probabilities"
   ]
  },
  {
   "cell_type": "code",
   "execution_count": 26,
   "metadata": {},
   "outputs": [
    {
     "name": "stdout",
     "output_type": "stream",
     "text": [
      "The collision probability of the distribution of language  0 is  199833689\n",
      "The collision probability of the distribution of language  1 is  1150779671\n",
      "The collision probability of the distribution of language  2 is  1157761417\n",
      "The collision probability of the distribution of language  3 is  1321381946\n",
      "The collision probability of the distribution of language  4 is  1158419521\n"
     ]
    }
   ],
   "source": [
    "#Collision Probability of a language\n",
    "def coll(lang1):\n",
    "    cp = 0\n",
    "    for letter in \"abcdefghijklmnopqrstuvwxyz\":\n",
    "        cp = cp + ((lang1[letter])**2)\n",
    "    return cp\n",
    "\n",
    "#print the collision probabilities\n",
    "for n in range(0,5):\n",
    "    print(\"The collision probability of the distribution of language \",n, \"is \", coll(lang[n]) )"
   ]
  },
  {
   "cell_type": "markdown",
   "metadata": {},
   "source": [
    "# Distance to the ciphered text"
   ]
  },
  {
   "cell_type": "code",
   "execution_count": 28,
   "metadata": {},
   "outputs": [
    {
     "name": "stdout",
     "output_type": "stream",
     "text": [
      "The distance between the ciphered text and language  0  is  49873.5\n",
      "The distance between the ciphered text and language  1  is  10384.5\n",
      "The distance between the ciphered text and language  2  is  25190.5\n",
      "The distance between the ciphered text and language  3  is  34152.0\n",
      "The distance between the ciphered text and language  4  is  18444.5\n"
     ]
    }
   ],
   "source": [
    "\n",
    "for n in range(0,5):\n",
    "    print(\"The distance between the ciphered text and language \",n, \" is \", var_dist(ciph_dict,lang[n]))"
   ]
  },
  {
   "cell_type": "code",
   "execution_count": null,
   "metadata": {},
   "outputs": [],
   "source": []
  }
 ],
 "metadata": {
  "kernelspec": {
   "display_name": "Python 3",
   "language": "python",
   "name": "python3"
  },
  "language_info": {
   "codemirror_mode": {
    "name": "ipython",
    "version": 3
   },
   "file_extension": ".py",
   "mimetype": "text/x-python",
   "name": "python",
   "nbconvert_exporter": "python",
   "pygments_lexer": "ipython3",
   "version": "3.7.4"
  }
 },
 "nbformat": 4,
 "nbformat_minor": 2
}
